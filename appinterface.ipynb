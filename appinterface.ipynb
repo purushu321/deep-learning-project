{
  "cells": [
    {
      "cell_type": "markdown",
      "metadata": {
        "id": "view-in-github",
        "colab_type": "text"
      },
      "source": [
        "<a href=\"https://colab.research.google.com/github/purushu321/deep-learning-project/blob/main/appinterface.ipynb\" target=\"_parent\"><img src=\"https://colab.research.google.com/assets/colab-badge.svg\" alt=\"Open In Colab\"/></a>"
      ]
    },
    {
      "cell_type": "code",
      "execution_count": 1,
      "metadata": {
        "colab": {
          "base_uri": "https://localhost:8080/",
          "height": 34
        },
        "id": "d172AyZrPSsP",
        "outputId": "d8d7a55b-b396-41e3-e781-9149da88cc1c"
      },
      "outputs": [
        {
          "output_type": "stream",
          "name": "stdout",
          "text": [
            "https://ldgcuxvd9zi-496ff2e9c6d22116-5000-colab.googleusercontent.com/\n"
          ]
        }
      ],
      "source": [
        "from google.colab.output import eval_js\n",
        "print(eval_js(\"google.colab.kernel.proxyPort(5000)\"))"
      ]
    },
    {
      "cell_type": "code",
      "execution_count": null,
      "metadata": {
        "colab": {
          "background_save": true,
          "base_uri": "https://localhost:8080/"
        },
        "id": "BKhz0bHYnbIr",
        "outputId": "8a4ed304-769d-4841-9a3f-4f0fb729604e"
      },
      "outputs": [
        {
          "output_type": "stream",
          "name": "stdout",
          "text": [
            "Keras model loaded successfully.\n",
            " * Serving Flask app '__main__'\n",
            " * Debug mode: off\n"
          ]
        },
        {
          "output_type": "stream",
          "name": "stderr",
          "text": [
            "INFO:werkzeug:\u001b[31m\u001b[1mWARNING: This is a development server. Do not use it in a production deployment. Use a production WSGI server instead.\u001b[0m\n",
            " * Running on http://127.0.0.1:5000\n",
            "INFO:werkzeug:\u001b[33mPress CTRL+C to quit\u001b[0m\n",
            "INFO:werkzeug:127.0.0.1 - - [12/Jun/2024 13:41:26] \"GET / HTTP/1.1\" 200 -\n",
            "INFO:werkzeug:127.0.0.1 - - [12/Jun/2024 13:41:27] \"\u001b[33mGET /favicon.ico HTTP/1.1\u001b[0m\" 404 -\n"
          ]
        },
        {
          "output_type": "stream",
          "name": "stdout",
          "text": [
            "1/1 [==============================] - 1s 879ms/step\n"
          ]
        },
        {
          "output_type": "stream",
          "name": "stderr",
          "text": [
            "INFO:werkzeug:127.0.0.1 - - [12/Jun/2024 13:42:28] \"POST /submit HTTP/1.1\" 200 -\n"
          ]
        },
        {
          "output_type": "stream",
          "name": "stdout",
          "text": [
            "1/1 [==============================] - 1s 643ms/step\n"
          ]
        },
        {
          "output_type": "stream",
          "name": "stderr",
          "text": [
            "INFO:werkzeug:127.0.0.1 - - [12/Jun/2024 13:43:19] \"POST /submit HTTP/1.1\" 200 -\n",
            "INFO:werkzeug:127.0.0.1 - - [12/Jun/2024 13:43:29] \"\u001b[33mGET /favicon.ico HTTP/1.1\u001b[0m\" 404 -\n"
          ]
        },
        {
          "output_type": "stream",
          "name": "stdout",
          "text": [
            "1/1 [==============================] - 1s 547ms/step\n"
          ]
        },
        {
          "output_type": "stream",
          "name": "stderr",
          "text": [
            "INFO:werkzeug:127.0.0.1 - - [12/Jun/2024 13:43:54] \"POST /submit HTTP/1.1\" 200 -\n",
            "INFO:werkzeug:127.0.0.1 - - [12/Jun/2024 13:43:55] \"\u001b[33mGET /favicon.ico HTTP/1.1\u001b[0m\" 404 -\n"
          ]
        }
      ],
      "source": [
        "\n",
        "from flask import Flask, render_template, request\n",
        "from keras.models import load_model\n",
        "from keras.preprocessing import image\n",
        "import numpy as np\n",
        "import base64\n",
        "\n",
        "app = Flask(__name__, template_folder='/content/drive/MyDrive/templates', static_folder='/content/drive/MyDrive/static')\n",
        "\n",
        "dic = {0: 'Normal', 1: 'OSCC'}\n",
        "\n",
        "try:\n",
        "    model = load_model('/content/drive/MyDrive/oral.h5')\n",
        "    model.make_predict_function()\n",
        "    print(\"Keras model loaded successfully.\")\n",
        "except Exception as e:\n",
        "    print(\"Error loading the Keras model:\", e)\n",
        "\n",
        "def predict_label(img_path):\n",
        "    dataset= np.zeros((1,200,200,3))\n",
        "    i = image.load_img(img_path, target_size=(200,200,3))\n",
        "    i = image.img_to_array(i)\n",
        "    dataset[0] = i\n",
        "    p = model.predict(dataset)\n",
        "    pred = np.argmax(p)\n",
        "    if(pred==0):\n",
        "        res = \"Normal\"\n",
        "    elif(pred==1):\n",
        "        res = \"OSCC\"\n",
        "    return res\n",
        "\n",
        "\n",
        "@app.route(\"/\", methods=['GET', 'POST'])\n",
        "def main():\n",
        "    return render_template(\"ind.html\")\n",
        "\n",
        "@app.route(\"/about\")\n",
        "def about_page():\n",
        "    return \"Please subscribe Artificial Intelligence Hub..!!!\"\n",
        "\n",
        "@app.route(\"/submit\", methods=['POST'])\n",
        "def get_output():\n",
        "    if request.method == 'POST':\n",
        "        img = request.files['my_image']\n",
        "        img_path = \"/content/drive/MyDrive/static/\" + img.filename\n",
        "        img.save(img_path)\n",
        "\n",
        "        with open(img_path, \"rb\") as img_file:\n",
        "            img_base64 = base64.b64encode(img_file.read()).decode('utf-8')\n",
        "\n",
        "        p = predict_label(img_path)\n",
        "        return render_template(\"ind.html\", prediction=p, img_base64=img_base64)\n",
        "\n",
        "if __name__ =='__main__':\n",
        "    app.run()\n"
      ]
    },
    {
      "cell_type": "code",
      "execution_count": null,
      "metadata": {
        "id": "NDVw8gWwv-Qe"
      },
      "outputs": [],
      "source": [
        "from google.colab import drive\n",
        "drive.mount('/content/drive')"
      ]
    }
  ],
  "metadata": {
    "colab": {
      "provenance": [],
      "mount_file_id": "1_SjUlamCd-ZOUGBJb66Pl8Fk55GdiCy1",
      "authorship_tag": "ABX9TyMN5FYrWSzOMjL/wY4RZVBQ",
      "include_colab_link": true
    },
    "kernelspec": {
      "display_name": "Python 3",
      "name": "python3"
    },
    "language_info": {
      "name": "python"
    }
  },
  "nbformat": 4,
  "nbformat_minor": 0
}